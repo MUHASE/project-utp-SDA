{
  "nbformat": 4,
  "nbformat_minor": 0,
  "metadata": {
    "colab": {
      "provenance": []
    },
    "kernelspec": {
      "name": "python3",
      "display_name": "Python 3"
    },
    "language_info": {
      "name": "python"
    }
  },
  "cells": [
    {
      "cell_type": "code",
      "execution_count": null,
      "metadata": {
        "id": "q4Qa1QelSAvo"
      },
      "outputs": [],
      "source": [
        "def tranfer_uang(uang, no_rekening):\n",
        "    index1 = cek_user(user_id)\n",
        "    index2 = cek_rekening(no_rekening)\n",
        "    if index1 >= 0:\n",
        "        if users[index1]['saldo'] >= int(uang):\n",
        "            users[index1]['saldo'] = users[index1]['saldo'] - int(uang)\n",
        "            users[index2]['saldo'] = users[index2]['saldo'] + int(uang)\n",
        "            print(\"Anda berhasil mentransfer uang sebesar Rp.\" + str(uang) + \" ke Rekening \" + no_rekening)\n",
        "            print(\"sisa saldo anda adalah sebesar Rp.\", users[index1]['saldo'])\n",
        "        else:\n",
        "            print(\"Maaf saldo anda tidak cukup!\")\n",
        " \n",
        " \n",
        "def ambil_uang(uang):\n",
        "    index1 = cek_user(user_id)\n",
        "    if index1 >= 0:\n",
        "        if users[index1]['saldo'] >= int(uang):\n",
        "            users[index1]['saldo'] = users[index1]['saldo'] - int(uang)\n",
        "            print(\"Anda berhasil menarik uang sebesar Rp.\" + str(uang))\n",
        "            print(\"sisa saldo anda adalah sebesar Rp.\", users[index1]['saldo'])\n",
        "        else:\n",
        "            print(\"Maaf saldo anda tidak cukup!\")"
      ]
    }
  ]
}